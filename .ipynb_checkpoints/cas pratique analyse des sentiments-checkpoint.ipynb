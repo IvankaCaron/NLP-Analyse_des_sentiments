{
 "cells": [
  {
   "cell_type": "markdown",
   "metadata": {},
   "source": [
    "# Cas pratique analyse des sentiments"
   ]
  },
  {
   "cell_type": "markdown",
   "metadata": {},
   "source": [
    "- En repartant de la table `df_sms_clean`, calculez les niveaux de subjectivité et de positivité des textos analysés et stockez ces informations dans deux nouvelles variables de la table.  \n",
    "- Représentez graphiquement la répartition des textos en fonction de leur subjectivité et de leur subjectivité. Faites apparaître dans une couleur différente les spams. Pourrait-on utiliser ces 2 variables pour repérer les spams selon vous?   \n",
    "- Faites apparaître les textos les plus positifs/les textos les plus négatifs/les textos les plus subjectifs/les plus objectifs pour vérifier que la mesure fonctionne correctement.   \n",
    "\n",
    "_Bonus_ : On s'intéresse maintenant aux spam :  \n",
    "- En reprenant notre modèle de prédiction de spams, déterminez si la probabilité qu'on repère un spam comme tel dépend ou non du degré de subjectivité et de positivité de son contenu.  \n",
    "(Démarche à suivre : reprendre le vecteur de probabilités d'être un spam pour les spams de y_test et représenter ces points en fonction de la positivité et de la subjectivité en colorant selon ce vecteur).  \n"
   ]
  },
  {
   "cell_type": "code",
   "execution_count": null,
   "metadata": {},
   "outputs": [],
   "source": [
    "import pickle\n",
    "#on charge les pickles ainsi sauvegardés\n",
    "with open'"
   ]
  }
 ],
 "metadata": {
  "kernelspec": {
   "display_name": "Python 3",
   "language": "python",
   "name": "python3"
  },
  "language_info": {
   "codemirror_mode": {
    "name": "ipython",
    "version": 3
   },
   "file_extension": ".py",
   "mimetype": "text/x-python",
   "name": "python",
   "nbconvert_exporter": "python",
   "pygments_lexer": "ipython3",
   "version": "3.7.6"
  }
 },
 "nbformat": 4,
 "nbformat_minor": 2
}
